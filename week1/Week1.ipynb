{
 "cells": [
  {
   "cell_type": "code",
   "execution_count": null,
   "metadata": {},
   "outputs": [],
   "source": [
    "# install.packages(\"devtools\")\n",
    "# library(devtools)"
   ]
  },
  {
   "cell_type": "code",
   "execution_count": null,
   "metadata": {},
   "outputs": [],
   "source": [
    "# install.packages(\"dplyr\")\n",
    "# install.packages(\"ggplot2\")\n",
    "# install.packages(\"shiny\")\n",
    "# install_github(\"StatsWithR/statsr\")"
   ]
  },
  {
   "cell_type": "code",
   "execution_count": 1,
   "metadata": {},
   "outputs": [
    {
     "name": "stderr",
     "output_type": "stream",
     "text": [
      "\n",
      "Attaching package: ‘dplyr’\n",
      "\n",
      "\n",
      "The following objects are masked from ‘package:stats’:\n",
      "\n",
      "    filter, lag\n",
      "\n",
      "\n",
      "The following objects are masked from ‘package:base’:\n",
      "\n",
      "    intersect, setdiff, setequal, union\n",
      "\n",
      "\n"
     ]
    }
   ],
   "source": [
    "library(dplyr)\n",
    "library(ggplot2)\n",
    "library(statsr)"
   ]
  },
  {
   "cell_type": "code",
   "execution_count": 14,
   "metadata": {},
   "outputs": [],
   "source": [
    "data(arbuthnot)"
   ]
  },
  {
   "cell_type": "code",
   "execution_count": 3,
   "metadata": {},
   "outputs": [
    {
     "data": {
      "text/html": [
       "<style>\n",
       ".list-inline {list-style: none; margin:0; padding: 0}\n",
       ".list-inline>li {display: inline-block}\n",
       ".list-inline>li:not(:last-child)::after {content: \"\\00b7\"; padding: 0 .5ex}\n",
       "</style>\n",
       "<ol class=list-inline><li>82</li><li>3</li></ol>\n"
      ],
      "text/latex": [
       "\\begin{enumerate*}\n",
       "\\item 82\n",
       "\\item 3\n",
       "\\end{enumerate*}\n"
      ],
      "text/markdown": [
       "1. 82\n",
       "2. 3\n",
       "\n",
       "\n"
      ],
      "text/plain": [
       "[1] 82  3"
      ]
     },
     "metadata": {},
     "output_type": "display_data"
    }
   ],
   "source": [
    "dim(arbuthnot)"
   ]
  },
  {
   "cell_type": "code",
   "execution_count": 4,
   "metadata": {},
   "outputs": [
    {
     "data": {
      "text/html": [
       "<style>\n",
       ".list-inline {list-style: none; margin:0; padding: 0}\n",
       ".list-inline>li {display: inline-block}\n",
       ".list-inline>li:not(:last-child)::after {content: \"\\00b7\"; padding: 0 .5ex}\n",
       "</style>\n",
       "<ol class=list-inline><li>'year'</li><li>'boys'</li><li>'girls'</li></ol>\n"
      ],
      "text/latex": [
       "\\begin{enumerate*}\n",
       "\\item 'year'\n",
       "\\item 'boys'\n",
       "\\item 'girls'\n",
       "\\end{enumerate*}\n"
      ],
      "text/markdown": [
       "1. 'year'\n",
       "2. 'boys'\n",
       "3. 'girls'\n",
       "\n",
       "\n"
      ],
      "text/plain": [
       "[1] \"year\"  \"boys\"  \"girls\""
      ]
     },
     "metadata": {},
     "output_type": "display_data"
    }
   ],
   "source": [
    "names(arbuthnot)"
   ]
  },
  {
   "cell_type": "code",
   "execution_count": 5,
   "metadata": {},
   "outputs": [
    {
     "data": {
      "text/html": [
       "<style>\n",
       ".list-inline {list-style: none; margin:0; padding: 0}\n",
       ".list-inline>li {display: inline-block}\n",
       ".list-inline>li:not(:last-child)::after {content: \"\\00b7\"; padding: 0 .5ex}\n",
       "</style>\n",
       "<ol class=list-inline><li>5218</li><li>4858</li><li>4422</li><li>4994</li><li>5158</li><li>5035</li><li>5106</li><li>4917</li><li>4703</li><li>5359</li><li>5366</li><li>5518</li><li>5470</li><li>5460</li><li>4793</li><li>4107</li><li>4047</li><li>3768</li><li>3796</li><li>3363</li><li>3079</li><li>2890</li><li>3231</li><li>3220</li><li>3196</li><li>3441</li><li>3655</li><li>3668</li><li>3396</li><li>3157</li><li>3209</li><li>3724</li><li>4748</li><li>5216</li><li>5411</li><li>6041</li><li>5114</li><li>4678</li><li>5616</li><li>6073</li><li>6506</li><li>6278</li><li>6449</li><li>6443</li><li>6073</li><li>6113</li><li>6058</li><li>6552</li><li>6423</li><li>6568</li><li>6247</li><li>6548</li><li>6822</li><li>6909</li><li>7577</li><li>7575</li><li>7484</li><li>7575</li><li>7737</li><li>7487</li><li>7604</li><li>7909</li><li>7662</li><li>7602</li><li>7676</li><li>6985</li><li>7263</li><li>7632</li><li>8062</li><li>8426</li><li>7911</li><li>7578</li><li>8102</li><li>8031</li><li>7765</li><li>6113</li><li>8366</li><li>7952</li><li>8379</li><li>8239</li><li>7840</li><li>7640</li></ol>\n"
      ],
      "text/latex": [
       "\\begin{enumerate*}\n",
       "\\item 5218\n",
       "\\item 4858\n",
       "\\item 4422\n",
       "\\item 4994\n",
       "\\item 5158\n",
       "\\item 5035\n",
       "\\item 5106\n",
       "\\item 4917\n",
       "\\item 4703\n",
       "\\item 5359\n",
       "\\item 5366\n",
       "\\item 5518\n",
       "\\item 5470\n",
       "\\item 5460\n",
       "\\item 4793\n",
       "\\item 4107\n",
       "\\item 4047\n",
       "\\item 3768\n",
       "\\item 3796\n",
       "\\item 3363\n",
       "\\item 3079\n",
       "\\item 2890\n",
       "\\item 3231\n",
       "\\item 3220\n",
       "\\item 3196\n",
       "\\item 3441\n",
       "\\item 3655\n",
       "\\item 3668\n",
       "\\item 3396\n",
       "\\item 3157\n",
       "\\item 3209\n",
       "\\item 3724\n",
       "\\item 4748\n",
       "\\item 5216\n",
       "\\item 5411\n",
       "\\item 6041\n",
       "\\item 5114\n",
       "\\item 4678\n",
       "\\item 5616\n",
       "\\item 6073\n",
       "\\item 6506\n",
       "\\item 6278\n",
       "\\item 6449\n",
       "\\item 6443\n",
       "\\item 6073\n",
       "\\item 6113\n",
       "\\item 6058\n",
       "\\item 6552\n",
       "\\item 6423\n",
       "\\item 6568\n",
       "\\item 6247\n",
       "\\item 6548\n",
       "\\item 6822\n",
       "\\item 6909\n",
       "\\item 7577\n",
       "\\item 7575\n",
       "\\item 7484\n",
       "\\item 7575\n",
       "\\item 7737\n",
       "\\item 7487\n",
       "\\item 7604\n",
       "\\item 7909\n",
       "\\item 7662\n",
       "\\item 7602\n",
       "\\item 7676\n",
       "\\item 6985\n",
       "\\item 7263\n",
       "\\item 7632\n",
       "\\item 8062\n",
       "\\item 8426\n",
       "\\item 7911\n",
       "\\item 7578\n",
       "\\item 8102\n",
       "\\item 8031\n",
       "\\item 7765\n",
       "\\item 6113\n",
       "\\item 8366\n",
       "\\item 7952\n",
       "\\item 8379\n",
       "\\item 8239\n",
       "\\item 7840\n",
       "\\item 7640\n",
       "\\end{enumerate*}\n"
      ],
      "text/markdown": [
       "1. 5218\n",
       "2. 4858\n",
       "3. 4422\n",
       "4. 4994\n",
       "5. 5158\n",
       "6. 5035\n",
       "7. 5106\n",
       "8. 4917\n",
       "9. 4703\n",
       "10. 5359\n",
       "11. 5366\n",
       "12. 5518\n",
       "13. 5470\n",
       "14. 5460\n",
       "15. 4793\n",
       "16. 4107\n",
       "17. 4047\n",
       "18. 3768\n",
       "19. 3796\n",
       "20. 3363\n",
       "21. 3079\n",
       "22. 2890\n",
       "23. 3231\n",
       "24. 3220\n",
       "25. 3196\n",
       "26. 3441\n",
       "27. 3655\n",
       "28. 3668\n",
       "29. 3396\n",
       "30. 3157\n",
       "31. 3209\n",
       "32. 3724\n",
       "33. 4748\n",
       "34. 5216\n",
       "35. 5411\n",
       "36. 6041\n",
       "37. 5114\n",
       "38. 4678\n",
       "39. 5616\n",
       "40. 6073\n",
       "41. 6506\n",
       "42. 6278\n",
       "43. 6449\n",
       "44. 6443\n",
       "45. 6073\n",
       "46. 6113\n",
       "47. 6058\n",
       "48. 6552\n",
       "49. 6423\n",
       "50. 6568\n",
       "51. 6247\n",
       "52. 6548\n",
       "53. 6822\n",
       "54. 6909\n",
       "55. 7577\n",
       "56. 7575\n",
       "57. 7484\n",
       "58. 7575\n",
       "59. 7737\n",
       "60. 7487\n",
       "61. 7604\n",
       "62. 7909\n",
       "63. 7662\n",
       "64. 7602\n",
       "65. 7676\n",
       "66. 6985\n",
       "67. 7263\n",
       "68. 7632\n",
       "69. 8062\n",
       "70. 8426\n",
       "71. 7911\n",
       "72. 7578\n",
       "73. 8102\n",
       "74. 8031\n",
       "75. 7765\n",
       "76. 6113\n",
       "77. 8366\n",
       "78. 7952\n",
       "79. 8379\n",
       "80. 8239\n",
       "81. 7840\n",
       "82. 7640\n",
       "\n",
       "\n"
      ],
      "text/plain": [
       " [1] 5218 4858 4422 4994 5158 5035 5106 4917 4703 5359 5366 5518 5470 5460 4793\n",
       "[16] 4107 4047 3768 3796 3363 3079 2890 3231 3220 3196 3441 3655 3668 3396 3157\n",
       "[31] 3209 3724 4748 5216 5411 6041 5114 4678 5616 6073 6506 6278 6449 6443 6073\n",
       "[46] 6113 6058 6552 6423 6568 6247 6548 6822 6909 7577 7575 7484 7575 7737 7487\n",
       "[61] 7604 7909 7662 7602 7676 6985 7263 7632 8062 8426 7911 7578 8102 8031 7765\n",
       "[76] 6113 8366 7952 8379 8239 7840 7640"
      ]
     },
     "metadata": {},
     "output_type": "display_data"
    }
   ],
   "source": [
    "arbuthnot$boys"
   ]
  },
  {
   "cell_type": "code",
   "execution_count": 6,
   "metadata": {
    "scrolled": false
   },
   "outputs": [
    {
     "data": {
      "image/png": "[encoded data removed]",
      "text/plain": [
       "plot without title"
      ]
     },
     "metadata": {
      "image/png": {
       "height": 420,
       "width": 420
      }
     },
     "output_type": "display_data"
    }
   ],
   "source": [
    "ggplot(data = arbuthnot, aes(x = year, y = girls)) +\n",
    "  geom_point()"
   ]
  },
  {
   "cell_type": "code",
   "execution_count": 8,
   "metadata": {},
   "outputs": [],
   "source": [
    "arbuthnot <- arbuthnot %>%\n",
    "  mutate(more_boys = boys > girls)"
   ]
  },
  {
   "cell_type": "code",
   "execution_count": 10,
   "metadata": {},
   "outputs": [],
   "source": [
    "arbuthnot <- arbuthnot %>%\n",
    "  mutate(total = boys + girls)"
   ]
  },
  {
   "cell_type": "code",
   "execution_count": 11,
   "metadata": {},
   "outputs": [
    {
     "data": {
      "image/png": "[encoded data removed]",
      "text/plain": [
       "plot without title"
      ]
     },
     "metadata": {
      "image/png": {
       "height": 420,
       "width": 420
      }
     },
     "output_type": "display_data"
    }
   ],
   "source": [
    "ggplot(data = arbuthnot, aes(x = year, y = total)) +\n",
    "  geom_line() +\n",
    "  geom_point()"
   ]
  },
  {
   "cell_type": "code",
   "execution_count": 12,
   "metadata": {},
   "outputs": [],
   "source": [
    "data(present)"
   ]
  },
  {
   "cell_type": "code",
   "execution_count": 13,
   "metadata": {
    "scrolled": true
   },
   "outputs": [
    {
     "data": {
      "text/html": [
       "<table>\n",
       "<caption>A tibble: 74 × 3</caption>\n",
       "<thead>\n",
       "\t<tr><th scope=col>year</th><th scope=col>boys</th><th scope=col>girls</th></tr>\n",
       "\t<tr><th scope=col>&lt;dbl&gt;</th><th scope=col>&lt;dbl&gt;</th><th scope=col>&lt;dbl&gt;</th></tr>\n",
       "</thead>\n",
       "<tbody>\n",
       "\t<tr><td>1940</td><td>1211684</td><td>1148715</td></tr>\n",
       "\t<tr><td>1941</td><td>1289734</td><td>1223693</td></tr>\n",
       "\t<tr><td>1942</td><td>1444365</td><td>1364631</td></tr>\n",
       "\t<tr><td>1943</td><td>1508959</td><td>1427901</td></tr>\n",
       "\t<tr><td>1944</td><td>1435301</td><td>1359499</td></tr>\n",
       "\t<tr><td>1945</td><td>1404587</td><td>1330869</td></tr>\n",
       "\t<tr><td>1946</td><td>1691220</td><td>1597452</td></tr>\n",
       "\t<tr><td>1947</td><td>1899876</td><td>1800064</td></tr>\n",
       "\t<tr><td>1948</td><td>1813852</td><td>1721216</td></tr>\n",
       "\t<tr><td>1949</td><td>1826352</td><td>1733177</td></tr>\n",
       "\t<tr><td>1950</td><td>1823555</td><td>1730594</td></tr>\n",
       "\t<tr><td>1951</td><td>1923020</td><td>1827830</td></tr>\n",
       "\t<tr><td>1952</td><td>1971262</td><td>1875724</td></tr>\n",
       "\t<tr><td>1953</td><td>2001798</td><td>1900322</td></tr>\n",
       "\t<tr><td>1954</td><td>2059068</td><td>1958294</td></tr>\n",
       "\t<tr><td>1955</td><td>2073719</td><td>1973576</td></tr>\n",
       "\t<tr><td>1956</td><td>2133588</td><td>2029502</td></tr>\n",
       "\t<tr><td>1957</td><td>2179960</td><td>2074824</td></tr>\n",
       "\t<tr><td>1958</td><td>2152546</td><td>2051266</td></tr>\n",
       "\t<tr><td>1959</td><td>2173638</td><td>2071158</td></tr>\n",
       "\t<tr><td>1960</td><td>2179708</td><td>2078142</td></tr>\n",
       "\t<tr><td>1961</td><td>2186274</td><td>2082052</td></tr>\n",
       "\t<tr><td>1962</td><td>2132466</td><td>2034896</td></tr>\n",
       "\t<tr><td>1963</td><td>2101632</td><td>1996388</td></tr>\n",
       "\t<tr><td>1964</td><td>2060162</td><td>1967328</td></tr>\n",
       "\t<tr><td>1965</td><td>1927054</td><td>1833304</td></tr>\n",
       "\t<tr><td>1966</td><td>1845862</td><td>1760412</td></tr>\n",
       "\t<tr><td>1967</td><td>1803388</td><td>1717571</td></tr>\n",
       "\t<tr><td>1968</td><td>1796326</td><td>1705238</td></tr>\n",
       "\t<tr><td>1969</td><td>1846572</td><td>1753634</td></tr>\n",
       "\t<tr><td>⋮</td><td>⋮</td><td>⋮</td></tr>\n",
       "\t<tr><td>1984</td><td>1879490</td><td>1789651</td></tr>\n",
       "\t<tr><td>1985</td><td>1927983</td><td>1832578</td></tr>\n",
       "\t<tr><td>1986</td><td>1924868</td><td>1831679</td></tr>\n",
       "\t<tr><td>1987</td><td>1951153</td><td>1858241</td></tr>\n",
       "\t<tr><td>1988</td><td>2002424</td><td>1907086</td></tr>\n",
       "\t<tr><td>1989</td><td>2069490</td><td>1971468</td></tr>\n",
       "\t<tr><td>1990</td><td>2129495</td><td>2028717</td></tr>\n",
       "\t<tr><td>1991</td><td>2101518</td><td>2009389</td></tr>\n",
       "\t<tr><td>1992</td><td>2082097</td><td>1982917</td></tr>\n",
       "\t<tr><td>1993</td><td>2048861</td><td>1951379</td></tr>\n",
       "\t<tr><td>1994</td><td>2022589</td><td>1930178</td></tr>\n",
       "\t<tr><td>1995</td><td>1996355</td><td>1903234</td></tr>\n",
       "\t<tr><td>1996</td><td>1990480</td><td>1901014</td></tr>\n",
       "\t<tr><td>1997</td><td>1985596</td><td>1895298</td></tr>\n",
       "\t<tr><td>1998</td><td>2016205</td><td>1925348</td></tr>\n",
       "\t<tr><td>1999</td><td>2026854</td><td>1932563</td></tr>\n",
       "\t<tr><td>2000</td><td>2076969</td><td>1981845</td></tr>\n",
       "\t<tr><td>2001</td><td>2057922</td><td>1968011</td></tr>\n",
       "\t<tr><td>2002</td><td>2057979</td><td>1963747</td></tr>\n",
       "\t<tr><td>2003</td><td>2093535</td><td>1996415</td></tr>\n",
       "\t<tr><td>2004</td><td>2104661</td><td>2007391</td></tr>\n",
       "\t<tr><td>2005</td><td>2118982</td><td>2019367</td></tr>\n",
       "\t<tr><td>2006</td><td>2184237</td><td>2081318</td></tr>\n",
       "\t<tr><td>2007</td><td>2208071</td><td>2108162</td></tr>\n",
       "\t<tr><td>2008</td><td>2173625</td><td>2074069</td></tr>\n",
       "\t<tr><td>2009</td><td>2113739</td><td>2016926</td></tr>\n",
       "\t<tr><td>2010</td><td>2046561</td><td>1952825</td></tr>\n",
       "\t<tr><td>2011</td><td>2024068</td><td>1929522</td></tr>\n",
       "\t<tr><td>2012</td><td>2021800</td><td>1931041</td></tr>\n",
       "\t<tr><td>2013</td><td>2013108</td><td>1919073</td></tr>\n",
       "</tbody>\n",
       "</table>\n"
      ],
      "text/latex": [
       "A tibble: 74 × 3\n",
       "\\begin{tabular}{lll}\n",
       " year & boys & girls\\\\\n",
       " <dbl> & <dbl> & <dbl>\\\\\n",
       "\\hline\n",
       "\t 1940 & 1211684 & 1148715\\\\\n",
       "\t 1941 & 1289734 & 1223693\\\\\n",
       "\t 1942 & 1444365 & 1364631\\\\\n",
       "\t 1943 & 1508959 & 1427901\\\\\n",
       "\t 1944 & 1435301 & 1359499\\\\\n",
       "\t 1945 & 1404587 & 1330869\\\\\n",
       "\t 1946 & 1691220 & 1597452\\\\\n",
       "\t 1947 & 1899876 & 1800064\\\\\n",
       "\t 1948 & 1813852 & 1721216\\\\\n",
       "\t 1949 & 1826352 & 1733177\\\\\n",
       "\t 1950 & 1823555 & 1730594\\\\\n",
       "\t 1951 & 1923020 & 1827830\\\\\n",
       "\t 1952 & 1971262 & 1875724\\\\\n",
       "\t 1953 & 2001798 & 1900322\\\\\n",
       "\t 1954 & 2059068 & 1958294\\\\\n",
       "\t 1955 & 2073719 & 1973576\\\\\n",
       "\t 1956 & 2133588 & 2029502\\\\\n",
       "\t 1957 & 2179960 & 2074824\\\\\n",
       "\t 1958 & 2152546 & 2051266\\\\\n",
       "\t 1959 & 2173638 & 2071158\\\\\n",
       "\t 1960 & 2179708 & 2078142\\\\\n",
       "\t 1961 & 2186274 & 2082052\\\\\n",
       "\t 1962 & 2132466 & 2034896\\\\\n",
       "\t 1963 & 2101632 & 1996388\\\\\n",
       "\t 1964 & 2060162 & 1967328\\\\\n",
       "\t 1965 & 1927054 & 1833304\\\\\n",
       "\t 1966 & 1845862 & 1760412\\\\\n",
       "\t 1967 & 1803388 & 1717571\\\\\n",
       "\t 1968 & 1796326 & 1705238\\\\\n",
       "\t 1969 & 1846572 & 1753634\\\\\n",
       "\t ⋮ & ⋮ & ⋮\\\\\n",
       "\t 1984 & 1879490 & 1789651\\\\\n",
       "\t 1985 & 1927983 & 1832578\\\\\n",
       "\t 1986 & 1924868 & 1831679\\\\\n",
       "\t 1987 & 1951153 & 1858241\\\\\n",
       "\t 1988 & 2002424 & 1907086\\\\\n",
       "\t 1989 & 2069490 & 1971468\\\\\n",
       "\t 1990 & 2129495 & 2028717\\\\\n",
       "\t 1991 & 2101518 & 2009389\\\\\n",
       "\t 1992 & 2082097 & 1982917\\\\\n",
       "\t 1993 & 2048861 & 1951379\\\\\n",
       "\t 1994 & 2022589 & 1930178\\\\\n",
       "\t 1995 & 1996355 & 1903234\\\\\n",
       "\t 1996 & 1990480 & 1901014\\\\\n",
       "\t 1997 & 1985596 & 1895298\\\\\n",
       "\t 1998 & 2016205 & 1925348\\\\\n",
       "\t 1999 & 2026854 & 1932563\\\\\n",
       "\t 2000 & 2076969 & 1981845\\\\\n",
       "\t 2001 & 2057922 & 1968011\\\\\n",
       "\t 2002 & 2057979 & 1963747\\\\\n",
       "\t 2003 & 2093535 & 1996415\\\\\n",
       "\t 2004 & 2104661 & 2007391\\\\\n",
       "\t 2005 & 2118982 & 2019367\\\\\n",
       "\t 2006 & 2184237 & 2081318\\\\\n",
       "\t 2007 & 2208071 & 2108162\\\\\n",
       "\t 2008 & 2173625 & 2074069\\\\\n",
       "\t 2009 & 2113739 & 2016926\\\\\n",
       "\t 2010 & 2046561 & 1952825\\\\\n",
       "\t 2011 & 2024068 & 1929522\\\\\n",
       "\t 2012 & 2021800 & 1931041\\\\\n",
       "\t 2013 & 2013108 & 1919073\\\\\n",
       "\\end{tabular}\n"
      ],
      "text/markdown": [
       "\n",
       "A tibble: 74 × 3\n",
       "\n",
       "| year &lt;dbl&gt; | boys &lt;dbl&gt; | girls &lt;dbl&gt; |\n",
       "|---|---|---|\n",
       "| 1940 | 1211684 | 1148715 |\n",
       "| 1941 | 1289734 | 1223693 |\n",
       "| 1942 | 1444365 | 1364631 |\n",
       "| 1943 | 1508959 | 1427901 |\n",
       "| 1944 | 1435301 | 1359499 |\n",
       "| 1945 | 1404587 | 1330869 |\n",
       "| 1946 | 1691220 | 1597452 |\n",
       "| 1947 | 1899876 | 1800064 |\n",
       "| 1948 | 1813852 | 1721216 |\n",
       "| 1949 | 1826352 | 1733177 |\n",
       "| 1950 | 1823555 | 1730594 |\n",
       "| 1951 | 1923020 | 1827830 |\n",
       "| 1952 | 1971262 | 1875724 |\n",
       "| 1953 | 2001798 | 1900322 |\n",
       "| 1954 | 2059068 | 1958294 |\n",
       "| 1955 | 2073719 | 1973576 |\n",
       "| 1956 | 2133588 | 2029502 |\n",
       "| 1957 | 2179960 | 2074824 |\n",
       "| 1958 | 2152546 | 2051266 |\n",
       "| 1959 | 2173638 | 2071158 |\n",
       "| 1960 | 2179708 | 2078142 |\n",
       "| 1961 | 2186274 | 2082052 |\n",
       "| 1962 | 2132466 | 2034896 |\n",
       "| 1963 | 2101632 | 1996388 |\n",
       "| 1964 | 2060162 | 1967328 |\n",
       "| 1965 | 1927054 | 1833304 |\n",
       "| 1966 | 1845862 | 1760412 |\n",
       "| 1967 | 1803388 | 1717571 |\n",
       "| 1968 | 1796326 | 1705238 |\n",
       "| 1969 | 1846572 | 1753634 |\n",
       "| ⋮ | ⋮ | ⋮ |\n",
       "| 1984 | 1879490 | 1789651 |\n",
       "| 1985 | 1927983 | 1832578 |\n",
       "| 1986 | 1924868 | 1831679 |\n",
       "| 1987 | 1951153 | 1858241 |\n",
       "| 1988 | 2002424 | 1907086 |\n",
       "| 1989 | 2069490 | 1971468 |\n",
       "| 1990 | 2129495 | 2028717 |\n",
       "| 1991 | 2101518 | 2009389 |\n",
       "| 1992 | 2082097 | 1982917 |\n",
       "| 1993 | 2048861 | 1951379 |\n",
       "| 1994 | 2022589 | 1930178 |\n",
       "| 1995 | 1996355 | 1903234 |\n",
       "| 1996 | 1990480 | 1901014 |\n",
       "| 1997 | 1985596 | 1895298 |\n",
       "| 1998 | 2016205 | 1925348 |\n",
       "| 1999 | 2026854 | 1932563 |\n",
       "| 2000 | 2076969 | 1981845 |\n",
       "| 2001 | 2057922 | 1968011 |\n",
       "| 2002 | 2057979 | 1963747 |\n",
       "| 2003 | 2093535 | 1996415 |\n",
       "| 2004 | 2104661 | 2007391 |\n",
       "| 2005 | 2118982 | 2019367 |\n",
       "| 2006 | 2184237 | 2081318 |\n",
       "| 2007 | 2208071 | 2108162 |\n",
       "| 2008 | 2173625 | 2074069 |\n",
       "| 2009 | 2113739 | 2016926 |\n",
       "| 2010 | 2046561 | 1952825 |\n",
       "| 2011 | 2024068 | 1929522 |\n",
       "| 2012 | 2021800 | 1931041 |\n",
       "| 2013 | 2013108 | 1919073 |\n",
       "\n"
      ],
      "text/plain": [
       "   year boys    girls  \n",
       "1  1940 1211684 1148715\n",
       "2  1941 1289734 1223693\n",
       "3  1942 1444365 1364631\n",
       "4  1943 1508959 1427901\n",
       "5  1944 1435301 1359499\n",
       "6  1945 1404587 1330869\n",
       "7  1946 1691220 1597452\n",
       "8  1947 1899876 1800064\n",
       "9  1948 1813852 1721216\n",
       "10 1949 1826352 1733177\n",
       "11 1950 1823555 1730594\n",
       "12 1951 1923020 1827830\n",
       "13 1952 1971262 1875724\n",
       "14 1953 2001798 1900322\n",
       "15 1954 2059068 1958294\n",
       "16 1955 2073719 1973576\n",
       "17 1956 2133588 2029502\n",
       "18 1957 2179960 2074824\n",
       "19 1958 2152546 2051266\n",
       "20 1959 2173638 2071158\n",
       "21 1960 2179708 2078142\n",
       "22 1961 2186274 2082052\n",
       "23 1962 2132466 2034896\n",
       "24 1963 2101632 1996388\n",
       "25 1964 2060162 1967328\n",
       "26 1965 1927054 1833304\n",
       "27 1966 1845862 1760412\n",
       "28 1967 1803388 1717571\n",
       "29 1968 1796326 1705238\n",
       "30 1969 1846572 1753634\n",
       "⋮  ⋮    ⋮       ⋮      \n",
       "45 1984 1879490 1789651\n",
       "46 1985 1927983 1832578\n",
       "47 1986 1924868 1831679\n",
       "48 1987 1951153 1858241\n",
       "49 1988 2002424 1907086\n",
       "50 1989 2069490 1971468\n",
       "51 1990 2129495 2028717\n",
       "52 1991 2101518 2009389\n",
       "53 1992 2082097 1982917\n",
       "54 1993 2048861 1951379\n",
       "55 1994 2022589 1930178\n",
       "56 1995 1996355 1903234\n",
       "57 1996 1990480 1901014\n",
       "58 1997 1985596 1895298\n",
       "59 1998 2016205 1925348\n",
       "60 1999 2026854 1932563\n",
       "61 2000 2076969 1981845\n",
       "62 2001 2057922 1968011\n",
       "63 2002 2057979 1963747\n",
       "64 2003 2093535 1996415\n",
       "65 2004 2104661 2007391\n",
       "66 2005 2118982 2019367\n",
       "67 2006 2184237 2081318\n",
       "68 2007 2208071 2108162\n",
       "69 2008 2173625 2074069\n",
       "70 2009 2113739 2016926\n",
       "71 2010 2046561 1952825\n",
       "72 2011 2024068 1929522\n",
       "73 2012 2021800 1931041\n",
       "74 2013 2013108 1919073"
      ]
     },
     "metadata": {},
     "output_type": "display_data"
    }
   ],
   "source": [
    "present"
   ]
  },
  {
   "cell_type": "code",
   "execution_count": 26,
   "metadata": {},
   "outputs": [
    {
     "name": "stdout",
     "output_type": "stream",
     "text": [
      "Rows: 74\n",
      "Columns: 6\n",
      "$ year          \u001b[3m\u001b[38;5;246m<dbl>\u001b[39m\u001b[23m 1940, 1941, 1942, 1943, 1944, 1945, 1946, 1947, 1948, 1…\n",
      "$ boys          \u001b[3m\u001b[38;5;246m<dbl>\u001b[39m\u001b[23m 1211684, 1289734, 1444365, 1508959, 1435301, 1404587, 1…\n",
      "$ girls         \u001b[3m\u001b[38;5;246m<dbl>\u001b[39m\u001b[23m 1148715, 1223693, 1364631, 1427901, 1359499, 1330869, 1…\n",
      "$ total         \u001b[3m\u001b[38;5;246m<dbl>\u001b[39m\u001b[23m 2360399, 2513427, 2808996, 2936860, 2794800, 2735456, 3…\n",
      "$ more_boys     \u001b[3m\u001b[38;5;246m<lgl>\u001b[39m\u001b[23m TRUE, TRUE, TRUE, TRUE, TRUE, TRUE, TRUE, TRUE, TRUE, T…\n",
      "$ prop_boy_girl \u001b[3m\u001b[38;5;246m<dbl>\u001b[39m\u001b[23m 1.054817, 1.053969, 1.058429, 1.056767, 1.055757, 1.055…\n"
     ]
    }
   ],
   "source": [
    "glimpse(present)"
   ]
  },
  {
   "cell_type": "code",
   "execution_count": 17,
   "metadata": {},
   "outputs": [
    {
     "data": {
      "text/html": [
       "<style>\n",
       ".list-inline {list-style: none; margin:0; padding: 0}\n",
       ".list-inline>li {display: inline-block}\n",
       ".list-inline>li:not(:last-child)::after {content: \"\\00b7\"; padding: 0 .5ex}\n",
       "</style>\n",
       "<ol class=list-inline><li>1940</li><li>2013</li></ol>\n"
      ],
      "text/latex": [
       "\\begin{enumerate*}\n",
       "\\item 1940\n",
       "\\item 2013\n",
       "\\end{enumerate*}\n"
      ],
      "text/markdown": [
       "1. 1940\n",
       "2. 2013\n",
       "\n",
       "\n"
      ],
      "text/plain": [
       "[1] 1940 2013"
      ]
     },
     "metadata": {},
     "output_type": "display_data"
    }
   ],
   "source": [
    "range(present$year)"
   ]
  },
  {
   "cell_type": "code",
   "execution_count": 18,
   "metadata": {},
   "outputs": [],
   "source": [
    "present <- present %>% mutate(total=boys+girls)"
   ]
  },
  {
   "cell_type": "code",
   "execution_count": 20,
   "metadata": {},
   "outputs": [],
   "source": [
    "present <- present %>% mutate(more_boys=boys>girls)"
   ]
  },
  {
   "cell_type": "code",
   "execution_count": 21,
   "metadata": {},
   "outputs": [],
   "source": [
    "present <- present %>% mutate(prop_boy_girl=boys/girls)"
   ]
  },
  {
   "cell_type": "code",
   "execution_count": 24,
   "metadata": {
    "scrolled": false
   },
   "outputs": [
    {
     "data": {
      "image/png": "[encoded data removed]",
      "text/plain": [
       "plot without title"
      ]
     },
     "metadata": {
      "image/png": {
       "height": 420,
       "width": 420
      }
     },
     "output_type": "display_data"
    }
   ],
   "source": [
    "ggplot(data=present, aes(x=year, y=prop_boy_girl)) + geom_line()"
   ]
  },
  {
   "cell_type": "code",
   "execution_count": 27,
   "metadata": {},
   "outputs": [
    {
     "data": {
      "image/png": "[encoded data removed]",
      "text/plain": [
       "plot without title"
      ]
     },
     "metadata": {
      "image/png": {
       "height": 420,
       "width": 420
      }
     },
     "output_type": "display_data"
    }
   ],
   "source": [
    "ggplot(data=present, aes(x=year, y=total)) + geom_line()"
   ]
  },
  {
   "cell_type": "code",
   "execution_count": null,
   "metadata": {},
   "outputs": [],
   "source": []
  }
 ],
 "metadata": {
  "kernelspec": {
   "display_name": "R",
   "language": "R",
   "name": "ir"
  },
  "language_info": {
   "codemirror_mode": "r",
   "file_extension": ".r",
   "mimetype": "text/x-r-source",
   "name": "R",
   "pygments_lexer": "r",
   "version": "3.6.3"
  }
 },
 "nbformat": 4,
 "nbformat_minor": 4
}
